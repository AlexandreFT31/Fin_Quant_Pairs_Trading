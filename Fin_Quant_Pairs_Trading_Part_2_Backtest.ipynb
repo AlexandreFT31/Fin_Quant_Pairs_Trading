{
 "cells": [
  {
   "cell_type": "markdown",
   "metadata": {},
   "source": [
    "# Modelo de Pairs Trading Baseado em Cointegração"
   ]
  },
  {
   "cell_type": "markdown",
   "metadata": {},
   "source": [
    "**Autores: Alexandre Fernandes Theoharidis, Débora Darin e Nelly Pires Colnaghi**"
   ]
  },
  {
   "cell_type": "markdown",
   "metadata": {},
   "source": [
    "**Este trabalho contém:**\n",
    "\n",
    "**1)** Importação da série de preços das ações PETR3 e PETR4 e tratamento de dados **(apresentado no notebook parte 1)**;\n",
    "\n",
    "**2)** Cálculo da regressão linear dos preços das ações & computação dos resíduos da regressão (spreads) para verificação de desvios da média **(apresentado no notebook parte 1)**;\n",
    "\n",
    "**3)** Backtest da estratégia de pairs trading;\n",
    "\n",
    "**4)** Cálculo do retorno para o par PETR3 x PETR4."
   ]
  },
  {
   "cell_type": "markdown",
   "metadata": {},
   "source": [
    "## Bibliotecas"
   ]
  },
  {
   "cell_type": "markdown",
   "metadata": {},
   "source": [
    "Abaixo estão todas as bibliotecas utilizadas no código."
   ]
  },
  {
   "cell_type": "code",
   "execution_count": 1,
   "metadata": {},
   "outputs": [],
   "source": [
    "import numpy as np\n",
    "import pandas as pd\n",
    "import scipy as sp\n",
    "from statsmodels.tsa.stattools import adfuller\n",
    "from statsmodels.graphics.tsaplots import plot_acf, plot_pacf\n",
    "from pykalman import KalmanFilter\n",
    "import matplotlib.pyplot as plt\n",
    "import seaborn as sns"
   ]
  },
  {
   "cell_type": "markdown",
   "metadata": {},
   "source": [
    "## Configurações"
   ]
  },
  {
   "cell_type": "markdown",
   "metadata": {},
   "source": [
    "As configurações necessárias às bibliotecas empregadas no modelo estão consolidadas abaixo."
   ]
  },
  {
   "cell_type": "code",
   "execution_count": 2,
   "metadata": {},
   "outputs": [],
   "source": [
    "# Comando para que os gráficos sejam exibidos no corpo do texto\n",
    "%matplotlib inline"
   ]
  },
  {
   "cell_type": "code",
   "execution_count": 3,
   "metadata": {},
   "outputs": [],
   "source": [
    "plt.rcParams['figure.dpi'] = 200 # Resolução dos gráficos impressos no pdf (dpi)"
   ]
  },
  {
   "cell_type": "code",
   "execution_count": 4,
   "metadata": {},
   "outputs": [],
   "source": [
    "# Estilo dos gráficos\n",
    "sns.set(color_codes = True)"
   ]
  },
  {
   "cell_type": "markdown",
   "metadata": {},
   "source": [
    "## Parâmetros"
   ]
  },
  {
   "cell_type": "markdown",
   "metadata": {},
   "source": [
    "Esses são os parâmetros referentes aos modelos de pairs trading que são implementados no código, a serem detalhados mais a frente."
   ]
  },
  {
   "cell_type": "code",
   "execution_count": 5,
   "metadata": {},
   "outputs": [],
   "source": [
    "alfa = 0.01 # Nível de significância utilizado nos testes de hipótese \n",
    "janela_dados = 252 # tamanho da janela de dados utilizada para estimação dos modelos\n",
    "janela_coint = 5 # janela de dias que será analisada para determinação da cointegração das ações de um par\n",
    "cost = 0 # custo de execução \n",
    "th_KF = 0.25 # Número de desvios-padrão de distância da média para abertura de posição usando KF\n",
    "delta_beta_lim = 0 #variável para reduzir a frequência de ajustes de posição"
   ]
  },
  {
   "cell_type": "markdown",
   "metadata": {},
   "source": [
    "## Importação e Tratamento dos Dados"
   ]
  },
  {
   "cell_type": "code",
   "execution_count": 6,
   "metadata": {},
   "outputs": [],
   "source": [
    "# Leitura da planilha com as séries de preços diários das ações de cada par\n",
    "\n",
    "str_dir = 'D:/Estudos/2 Mestrado/Insper/Disciplinas/Finanças Quantitativas/Projeto/'\n",
    "str_plan_bd_stocks = 'BD_Stocks_v4'\n",
    "\n",
    "df_prices = pd.read_csv(filepath_or_buffer = str_dir + str_plan_bd_stocks + '.csv', sep=';')\n",
    "df_prices.index = df_prices['Dates']\n",
    "df_prices.index = pd.to_datetime(df_prices['Dates'])\n",
    "df_prices = df_prices.drop(columns=['Dates'])\n",
    "df_prices = df_prices.dropna()"
   ]
  },
  {
   "cell_type": "code",
   "execution_count": 7,
   "metadata": {},
   "outputs": [
    {
     "data": {
      "text/html": [
       "<div>\n",
       "<style scoped>\n",
       "    .dataframe tbody tr th:only-of-type {\n",
       "        vertical-align: middle;\n",
       "    }\n",
       "\n",
       "    .dataframe tbody tr th {\n",
       "        vertical-align: top;\n",
       "    }\n",
       "\n",
       "    .dataframe thead th {\n",
       "        text-align: right;\n",
       "    }\n",
       "</style>\n",
       "<table border=\"1\" class=\"dataframe\">\n",
       "  <thead>\n",
       "    <tr style=\"text-align: right;\">\n",
       "      <th></th>\n",
       "      <th>PETR3 BZ Equity</th>\n",
       "      <th>PETR4 BZ Equity</th>\n",
       "    </tr>\n",
       "    <tr>\n",
       "      <th>Dates</th>\n",
       "      <th></th>\n",
       "      <th></th>\n",
       "    </tr>\n",
       "  </thead>\n",
       "  <tbody>\n",
       "    <tr>\n",
       "      <th>2008-01-02</th>\n",
       "      <td>3.954220</td>\n",
       "      <td>3.772761</td>\n",
       "    </tr>\n",
       "    <tr>\n",
       "      <th>2008-01-03</th>\n",
       "      <td>3.939638</td>\n",
       "      <td>3.756538</td>\n",
       "    </tr>\n",
       "    <tr>\n",
       "      <th>2008-01-04</th>\n",
       "      <td>3.878466</td>\n",
       "      <td>3.706228</td>\n",
       "    </tr>\n",
       "    <tr>\n",
       "      <th>2008-01-07</th>\n",
       "      <td>3.843530</td>\n",
       "      <td>3.676427</td>\n",
       "    </tr>\n",
       "    <tr>\n",
       "      <th>2008-01-08</th>\n",
       "      <td>3.901973</td>\n",
       "      <td>3.729901</td>\n",
       "    </tr>\n",
       "  </tbody>\n",
       "</table>\n",
       "</div>"
      ],
      "text/plain": [
       "            PETR3 BZ Equity  PETR4 BZ Equity\n",
       "Dates                                       \n",
       "2008-01-02         3.954220         3.772761\n",
       "2008-01-03         3.939638         3.756538\n",
       "2008-01-04         3.878466         3.706228\n",
       "2008-01-07         3.843530         3.676427\n",
       "2008-01-08         3.901973         3.729901"
      ]
     },
     "execution_count": 7,
     "metadata": {},
     "output_type": "execute_result"
    }
   ],
   "source": [
    "# Log preços - serão usados nos testes de cointegração\n",
    "df_log_prices = np.log(df_prices)\n",
    "df_log_prices.head()"
   ]
  },
  {
   "cell_type": "code",
   "execution_count": 8,
   "metadata": {},
   "outputs": [
    {
     "data": {
      "text/html": [
       "<div>\n",
       "<style scoped>\n",
       "    .dataframe tbody tr th:only-of-type {\n",
       "        vertical-align: middle;\n",
       "    }\n",
       "\n",
       "    .dataframe tbody tr th {\n",
       "        vertical-align: top;\n",
       "    }\n",
       "\n",
       "    .dataframe thead th {\n",
       "        text-align: right;\n",
       "    }\n",
       "</style>\n",
       "<table border=\"1\" class=\"dataframe\">\n",
       "  <thead>\n",
       "    <tr style=\"text-align: right;\">\n",
       "      <th></th>\n",
       "      <th>Spread</th>\n",
       "    </tr>\n",
       "    <tr>\n",
       "      <th>Dates</th>\n",
       "      <th></th>\n",
       "    </tr>\n",
       "  </thead>\n",
       "  <tbody>\n",
       "    <tr>\n",
       "      <th>2008-01-02</th>\n",
       "      <td>0.000000</td>\n",
       "    </tr>\n",
       "    <tr>\n",
       "      <th>2008-01-03</th>\n",
       "      <td>0.000532</td>\n",
       "    </tr>\n",
       "    <tr>\n",
       "      <th>2008-01-04</th>\n",
       "      <td>-0.003338</td>\n",
       "    </tr>\n",
       "    <tr>\n",
       "      <th>2008-01-07</th>\n",
       "      <td>-0.002724</td>\n",
       "    </tr>\n",
       "    <tr>\n",
       "      <th>2008-01-08</th>\n",
       "      <td>0.000706</td>\n",
       "    </tr>\n",
       "  </tbody>\n",
       "</table>\n",
       "</div>"
      ],
      "text/plain": [
       "              Spread\n",
       "Dates               \n",
       "2008-01-02  0.000000\n",
       "2008-01-03  0.000532\n",
       "2008-01-04 -0.003338\n",
       "2008-01-07 -0.002724\n",
       "2008-01-08  0.000706"
      ]
     },
     "execution_count": 8,
     "metadata": {},
     "output_type": "execute_result"
    }
   ],
   "source": [
    "s_KF = pd.read_csv(filepath_or_buffer = str_dir + 's_KF.csv', sep=',')\n",
    "s_KF.index = s_KF['Dates']\n",
    "s_KF.index = pd.to_datetime(s_KF['Dates'])\n",
    "s_KF = s_KF.drop(columns=['Dates'])\n",
    "s_KF = s_KF.dropna()\n",
    "s_KF.head()"
   ]
  },
  {
   "cell_type": "code",
   "execution_count": 9,
   "metadata": {},
   "outputs": [
    {
     "data": {
      "text/html": [
       "<div>\n",
       "<style scoped>\n",
       "    .dataframe tbody tr th:only-of-type {\n",
       "        vertical-align: middle;\n",
       "    }\n",
       "\n",
       "    .dataframe tbody tr th {\n",
       "        vertical-align: top;\n",
       "    }\n",
       "\n",
       "    .dataframe thead th {\n",
       "        text-align: right;\n",
       "    }\n",
       "</style>\n",
       "<table border=\"1\" class=\"dataframe\">\n",
       "  <thead>\n",
       "    <tr style=\"text-align: right;\">\n",
       "      <th></th>\n",
       "      <th>ADF</th>\n",
       "    </tr>\n",
       "    <tr>\n",
       "      <th>Dates</th>\n",
       "      <th></th>\n",
       "    </tr>\n",
       "  </thead>\n",
       "  <tbody>\n",
       "    <tr>\n",
       "      <th>2008-01-02</th>\n",
       "      <td>NaN</td>\n",
       "    </tr>\n",
       "    <tr>\n",
       "      <th>2008-01-03</th>\n",
       "      <td>NaN</td>\n",
       "    </tr>\n",
       "    <tr>\n",
       "      <th>2008-01-04</th>\n",
       "      <td>NaN</td>\n",
       "    </tr>\n",
       "    <tr>\n",
       "      <th>2008-01-07</th>\n",
       "      <td>NaN</td>\n",
       "    </tr>\n",
       "    <tr>\n",
       "      <th>2008-01-08</th>\n",
       "      <td>NaN</td>\n",
       "    </tr>\n",
       "  </tbody>\n",
       "</table>\n",
       "</div>"
      ],
      "text/plain": [
       "            ADF\n",
       "Dates          \n",
       "2008-01-02  NaN\n",
       "2008-01-03  NaN\n",
       "2008-01-04  NaN\n",
       "2008-01-07  NaN\n",
       "2008-01-08  NaN"
      ]
     },
     "execution_count": 9,
     "metadata": {},
     "output_type": "execute_result"
    }
   ],
   "source": [
    "adf_KF = pd.read_csv(filepath_or_buffer = str_dir + 'adf_KF.csv', sep=',')\n",
    "adf_KF = adf_KF.drop(columns = adf_KF.columns[0])\n",
    "adf_KF.index = s_KF.index\n",
    "adf_KF.head()"
   ]
  },
  {
   "cell_type": "code",
   "execution_count": 10,
   "metadata": {},
   "outputs": [
    {
     "data": {
      "text/html": [
       "<div>\n",
       "<style scoped>\n",
       "    .dataframe tbody tr th:only-of-type {\n",
       "        vertical-align: middle;\n",
       "    }\n",
       "\n",
       "    .dataframe tbody tr th {\n",
       "        vertical-align: top;\n",
       "    }\n",
       "\n",
       "    .dataframe thead th {\n",
       "        text-align: right;\n",
       "    }\n",
       "</style>\n",
       "<table border=\"1\" class=\"dataframe\">\n",
       "  <thead>\n",
       "    <tr style=\"text-align: right;\">\n",
       "      <th></th>\n",
       "      <th>Beta1</th>\n",
       "    </tr>\n",
       "    <tr>\n",
       "      <th>Dates</th>\n",
       "      <th></th>\n",
       "    </tr>\n",
       "  </thead>\n",
       "  <tbody>\n",
       "    <tr>\n",
       "      <th>2008-01-02</th>\n",
       "      <td>1.000000</td>\n",
       "    </tr>\n",
       "    <tr>\n",
       "      <th>2008-01-03</th>\n",
       "      <td>0.999973</td>\n",
       "    </tr>\n",
       "    <tr>\n",
       "      <th>2008-01-04</th>\n",
       "      <td>1.000604</td>\n",
       "    </tr>\n",
       "    <tr>\n",
       "      <th>2008-01-07</th>\n",
       "      <td>1.001232</td>\n",
       "    </tr>\n",
       "    <tr>\n",
       "      <th>2008-01-08</th>\n",
       "      <td>1.001207</td>\n",
       "    </tr>\n",
       "  </tbody>\n",
       "</table>\n",
       "</div>"
      ],
      "text/plain": [
       "               Beta1\n",
       "Dates               \n",
       "2008-01-02  1.000000\n",
       "2008-01-03  0.999973\n",
       "2008-01-04  1.000604\n",
       "2008-01-07  1.001232\n",
       "2008-01-08  1.001207"
      ]
     },
     "execution_count": 10,
     "metadata": {},
     "output_type": "execute_result"
    }
   ],
   "source": [
    "beta_KF = pd.read_csv(filepath_or_buffer = str_dir + 'beta_KF.csv', sep=',')\n",
    "beta_KF = beta_KF.drop(columns = beta_KF.columns[0])\n",
    "beta_KF.index = s_KF.index\n",
    "beta_KF.head()"
   ]
  },
  {
   "cell_type": "markdown",
   "metadata": {},
   "source": [
    "## Backtest"
   ]
  },
  {
   "cell_type": "markdown",
   "metadata": {},
   "source": [
    "O objetivo dessa seção é efetuar um backtest da estratégia de pairs trading para verificação de seu retorno no período analisado. Para realização do backtest da estratégia, utilizaremos de um modelo de Thresholds com método de estimação via Filtro de Kalman (backtest_KF), que permite estimação diária dos coeficientes da regressão. \n",
    "\n",
    "Como preocupação para **não se utilizar de dados futuros** para a decisão de trading e cálculo dos retornos, foram **deslocados um dia para trás**:\n",
    "\n",
    "**1.** A série de spread, que atua como sinal;\n",
    "\n",
    "**2.** Os betas;\n",
    "\n",
    "**3.** Os resultados dos testes de cointegração.\n",
    "\n",
    "Tal regra pode ser observada nos índices dos dateframes que são percorridos nos loops - **ex:** fim_est-1 e fim_est-janela_coint-1."
   ]
  },
  {
   "cell_type": "markdown",
   "metadata": {},
   "source": [
    " ### Função para Realização do Backtest Usando Filtro de Kalman e Threshold Predeterminados"
   ]
  },
  {
   "cell_type": "markdown",
   "metadata": {},
   "source": [
    "#### Função que informa em que intervalo do spread se encontra\n",
    "\n",
    "A função retorna a posição onde o spread se localiza, podendo retornar ao limite superior de cima, limite superior entre as bandas, limite inferior entre as banda e limite inferior de baixo.\n",
    "\n",
    "Importante ressaltar que os resultados iniciais correspondentes a primeira janela móvel não são relevantes, pois, na função de backtest, onde os resultados serão utilizados, essa primeira janela não é levada em consideração, visto que o trade só começa após a mesma."
   ]
  },
  {
   "cell_type": "code",
   "execution_count": 11,
   "metadata": {},
   "outputs": [],
   "source": [
    "## A função retorna a posição onde o spread se localiza\n",
    "## Limite superior de cima: resultado = 3\n",
    "## Limite superior entre as bandas: resultado = 2\n",
    "## Limite inferior entre as banda: resultado = 1\n",
    "### Limite inferior de baixo: resultado = 0\n",
    "\n",
    "def intervalos(df_spread, janela_dados, th):\n",
    "    \n",
    "    avg_spread = df_spread.rolling(window = janela_dados).mean()\n",
    "    vol_spread = df_spread.rolling(window = janela_dados).std(ddof = 1)\n",
    "                        \n",
    "    lim_sup = avg_spread + th*vol_spread\n",
    "    lim_inf = avg_spread - th*vol_spread\n",
    "    \n",
    "    resultado = (df_spread > lim_sup)*1 + (df_spread > avg_spread)*1 + (df_spread > lim_inf)*1\n",
    "\n",
    "    return resultado"
   ]
  },
  {
   "cell_type": "markdown",
   "metadata": {},
   "source": [
    "#### Função do Backtest"
   ]
  },
  {
   "cell_type": "code",
   "execution_count": 12,
   "metadata": {},
   "outputs": [],
   "source": [
    "def backtest_KF(log_price1, log_price2, df_spread, df_interv, df_beta1, df_coint_res, \n",
    "                janela_dados, janela_coint, cost, delta_beta_lim):\n",
    "    \n",
    "    y = log_price1\n",
    "    x = log_price2\n",
    "    T = len(y)\n",
    "    \n",
    "    inicio_est = 2 # começa 2 para frente pois iremos aplicar um shift de 2 dias\n",
    "    fim_est = janela_dados + 2 # notar que, pelo uso do np.arange, último dia eh fim_est - 1\n",
    "    \n",
    "    df_log_retornos = pd.DataFrame(np.NaN, index = y.index, columns = ['Retornos'])\n",
    "    \n",
    "    # Variável que informa se há posição aberta ou não\n",
    "    par_aberto = False\n",
    "    \n",
    "    # -1 se o par foi aberto quando o spread estava na região inferior de fora\n",
    "    # 1 se o par foi aberto quando o spread estava na região superior de fora\n",
    "    \n",
    "    pos_aberto = -1\n",
    "    beta1_ant = df_beta1.iloc[fim_est-2,0]\n",
    "    beta1 = df_beta1.iloc[fim_est-2,0]\n",
    "    \n",
    "    while fim_est < T:\n",
    "        \n",
    "        # Regra: se nos últimos (janela_coint) dias houver cointegração, então o par é negociado\n",
    "        # inicio = fim_est - janela_coint\n",
    "        # fim = fim_est - 1\n",
    "        # tam = (fim_est - 1 - 1) - (fim_est - janela_coint - 1) + 1 = janela_coint\n",
    "        if np.min(df_coint_res.iloc[np.arange(fim_est-janela_coint-1, fim_est-1), 0]) == True:\n",
    "            \n",
    "            # Acompanha a variação do beta de um dia para o outro para ajustar a posição de acordo\n",
    "            # com a variação do beta\n",
    "            if par_aberto == True:\n",
    "                delta_beta = df_beta1.iloc[fim_est-2,0] - beta1\n",
    "                if np.abs(delta_beta) > delta_beta_lim:\n",
    "                    beta1_ant = beta1\n",
    "                    beta1 = df_beta1.iloc[fim_est-2,0]\n",
    "               \n",
    "            # Caso 1: spread na parte superior de fora da banda\n",
    "            if df_interv.iloc[fim_est-2,0] == 3:\n",
    "                    \n",
    "                # Caso 1.1: sem posição em aberto --> abre posição\n",
    "                if par_aberto == False:\n",
    "                    \n",
    "                    beta1 = df_beta1.iloc[fim_est-2,0]\n",
    "                    par_aberto = True\n",
    "                    pos_aberto = 1\n",
    "                    \n",
    "                # Caso 1.2: com posição em aberto, pela parte superior --> mantém\n",
    "                if par_aberto == True and pos_aberto == 1:\n",
    "                    \n",
    "                    cost_beta = np.abs(beta1 - beta1_ant)*cost/2\n",
    "                    df_log_retornos.iloc[fim_est,0] = -(y.iloc[fim_est]-y.iloc[fim_est-1]) + beta1*(x.iloc[fim_est]-x.iloc[fim_est-1]) - cost_beta\n",
    "                    \n",
    "                # Caso 1.3: com posição em aberto, pela parte inferior --> fecha\n",
    "                if par_aberto == True and pos_aberto == -1:\n",
    "                    \n",
    "                    df_log_retornos.iloc[fim_est,0] = (y.iloc[fim_est]-y.iloc[fim_est-1]) - beta1*(x.iloc[fim_est]-x.iloc[fim_est-1]) - cost\n",
    "                    par_aberto = False\n",
    "    \n",
    "            # Caso 2: spread na parte superior de dentro da banda\n",
    "            if df_interv.iloc[fim_est-2,0] == 2:\n",
    "                \n",
    "                # Caso 2.1: sem posição em aberto --> mantém\n",
    "                if par_aberto == False:\n",
    "                        \n",
    "                    par_aberto = False\n",
    "                    \n",
    "                # Caso 2.2: com posição em aberto, pela parte superior --> mantém\n",
    "                if par_aberto == True and pos_aberto == 1:\n",
    "                        \n",
    "                    cost_beta = np.abs(beta1 - beta1_ant)*cost/2\n",
    "                    df_log_retornos.iloc[fim_est,0] = -(y.iloc[fim_est]-y.iloc[fim_est-1]) + beta1*(x.iloc[fim_est]-x.iloc[fim_est-1]) - cost_beta\n",
    "                    \n",
    "                # Caso 2.3: com posição em aberto, pela parte inferior --> fecha\n",
    "                if par_aberto == True and pos_aberto == -1:\n",
    "                        \n",
    "                    df_log_retornos.iloc[fim_est,0] = (y.iloc[fim_est]-y.iloc[fim_est-1]) - beta1*(x.iloc[fim_est]-x.iloc[fim_est-1]) - cost\n",
    "                    par_aberto = False\n",
    "                \n",
    "            # Caso 3: spread na parte inferior de dentro da banda\n",
    "            if df_interv.iloc[fim_est-2,0] == 1:\n",
    "                    \n",
    "                # Caso 3.1: sem posição em aberto --> mantém\n",
    "                if par_aberto == False:\n",
    "                        \n",
    "                    par_aberto = False\n",
    "                    \n",
    "                # Caso 3.2: com posição em aberto, pela parte superior --> fecha\n",
    "                if par_aberto == True and pos_aberto == 1:\n",
    "                        \n",
    "                    df_log_retornos.iloc[fim_est,0] = -(y.iloc[fim_est]-y.iloc[fim_est-1]) + beta1*(x.iloc[fim_est]-x.iloc[fim_est-1]) - cost\n",
    "                    par_aberto = False\n",
    "                    \n",
    "                # Caso 3.3: com posição em aberto, pela parte inferior --> mantém\n",
    "                if par_aberto == True and pos_aberto == -1:\n",
    "                        \n",
    "                    cost_beta = np.abs(beta1 - beta1_ant)*cost/2\n",
    "                    df_log_retornos.iloc[fim_est,0] = (y.iloc[fim_est]-y.iloc[fim_est-1]) - beta1*(x.iloc[fim_est]-x.iloc[fim_est-1]) - cost_beta\n",
    "                \n",
    "            # Caso 4: spread na parte inferior de fora da banda\n",
    "            if df_interv.iloc[fim_est-2,0] == 0:\n",
    "        \n",
    "                # Caso 4.1: sem posição em aberto --> abre\n",
    "                if par_aberto == False:\n",
    "                        \n",
    "                    beta1 = df_beta1.iloc[fim_est-2,0]\n",
    "                    par_aberto = True\n",
    "                    pos_aberto = -1\n",
    "                    \n",
    "                # Caso 4.2: com posição em aberto, pela parte superior --> fecha\n",
    "                if par_aberto == True and pos_aberto == 1:\n",
    "                        \n",
    "                    df_log_retornos.iloc[fim_est,0] = -(y.iloc[fim_est]-y.iloc[fim_est-1]) + beta1*(x.iloc[fim_est]-x.iloc[fim_est-1]) - cost\n",
    "                    par_aberto = False\n",
    "                    \n",
    "                # Caso 4.3: com posição em aberto, pela parte inferior --> mantém\n",
    "                if par_aberto == True and pos_aberto == -1:\n",
    "                        \n",
    "                    cost_beta = np.abs(beta1 - beta1_ant)*cost/2 \n",
    "                    df_log_retornos.iloc[fim_est,0] = (y.iloc[fim_est]-y.iloc[fim_est-1]) - beta1*(x.iloc[fim_est]-x.iloc[fim_est-1]) - cost_beta\n",
    "                \n",
    "        # Else para contemplar o caso no qual, no período anterior, havia cointegração e foi terminado\n",
    "        # com posição em aberto, que será fechada imediatamente no período seguinte se não houver cointegração\n",
    "        else:\n",
    "            \n",
    "            if par_aberto == True:\n",
    "                    \n",
    "                if pos_aberto == 1:\n",
    "                        \n",
    "                    df_log_retornos.iloc[fim_est,0] = -(y.iloc[fim_est]-y.iloc[fim_est-1]) + beta1*(x.iloc[fim_est]-x.iloc[fim_est-1]) - cost \n",
    "                    \n",
    "                if pos_aberto == -1:\n",
    "                \n",
    "                    df_log_retornos.iloc[fim_est,0] = (y.iloc[fim_est]-y.iloc[fim_est-1]) - beta1*(x.iloc[fim_est]-x.iloc[fim_est-1]) - cost\n",
    "                \n",
    "                par_aberto = False\n",
    "                \n",
    "        inicio_est = inicio_est + 1\n",
    "        fim_est = fim_est + 1\n",
    "        \n",
    "    return df_log_retornos"
   ]
  },
  {
   "cell_type": "markdown",
   "metadata": {},
   "source": [
    "## Exemplo de Pair Trading - PETR3 x PETR4"
   ]
  },
  {
   "cell_type": "markdown",
   "metadata": {},
   "source": [
    "Nessa sessão realizamos um exemplo de implementação da estratégia de pairs trading com cointegração, utilizando os spreads calculados pelo filtro de Kalman e adotando um modelo de thresholds para regrar a negociação do par. Para esta análise foi utilizado o par de ações PETR3 e PETR4, papéis da mesma empresa e que possuem alta correlação entre si. Ao final, também foi construído um gráfico de retornos acumulados da estratégia para ilustrar o desempenho desta."
   ]
  },
  {
   "cell_type": "code",
   "execution_count": 15,
   "metadata": {},
   "outputs": [],
   "source": [
    "# Cálculo do retorno acumulado para as séries de preço\n",
    "x = df_log_prices['PETR4 BZ Equity']\n",
    "x = x.diff()\n",
    "x[0] = 0 #Para casos de não intercepto na regressão do filtro de Kalman, as séries de preço são normalizadas começando em zero\n",
    "x = x.cumsum()\n",
    "y = df_log_prices['PETR3 BZ Equity']\n",
    "y = y.diff()\n",
    "y[0] = 0 #Para casos de não intercepto na regressão do filtro de Kalman, as séries de preço são normalizadas começando em zero\n",
    "y = y.cumsum()"
   ]
  },
  {
   "cell_type": "code",
   "execution_count": 16,
   "metadata": {},
   "outputs": [],
   "source": [
    "interv_KF = intervalos(s_KF, janela_dados, th_KF)"
   ]
  },
  {
   "cell_type": "markdown",
   "metadata": {},
   "source": [
    "#### Implementação da Função de Backtest"
   ]
  },
  {
   "cell_type": "code",
   "execution_count": 17,
   "metadata": {},
   "outputs": [],
   "source": [
    "df_log_retornos_KF_th = backtest_KF(y, x, s_KF, interv_KF, beta_KF, adf_KF, \n",
    "                                    janela_dados, janela_coint, cost, delta_beta_lim)"
   ]
  },
  {
   "cell_type": "markdown",
   "metadata": {},
   "source": [
    "#### Gráfico dos Retornos Acumulados da Estratégia"
   ]
  },
  {
   "cell_type": "code",
   "execution_count": 18,
   "metadata": {},
   "outputs": [
    {
     "data": {
      "text/plain": [
       "<matplotlib.axes._subplots.AxesSubplot at 0x25a31445488>"
      ]
     },
     "execution_count": 18,
     "metadata": {},
     "output_type": "execute_result"
    },
    {
     "data": {
      "image/png": "[encoded data removed]",
      "text/plain": [
       "<Figure size 1200x800 with 1 Axes>"
      ]
     },
     "metadata": {},
     "output_type": "display_data"
    }
   ],
   "source": [
    "sns.lineplot(data=np.exp(df_log_retornos_KF_th.cumsum())-1)"
   ]
  },
  {
   "cell_type": "markdown",
   "metadata": {},
   "source": [
    "## Referências Bibliográficas\n",
    "\n",
    "CALDEIRA, J. F.; MOURA, G. V. Selection of a portfolio of pairs based in cointegration: A statistical arbitrage strategy. Revista Brasileira de Finanças, v. 11, n. 1, p. 49-80, mar. 2013.\n",
    "\n",
    "CARHART, M. M., On persistence in mutual fund performance. Journal of Finance, v. 52, n. 1, p. 57-82, mar. 1997.\n",
    "\n",
    "FAMA, E. F., FRENCH, K. F., Common risk factors in the returns on stocks and bonds. Journal of Financial Economics, v.33, n.1, p. 3-56, fev. 1993.\n",
    "\n",
    "GATEV, E., $et.$ $al$. Pairs trading: performance of a relative-value arbitrage rule. Review of Financial Studies, v. 19, n. 3, p. 797-827, mar. 2006."
   ]
  }
 ],
 "metadata": {
  "kernelspec": {
   "display_name": "Python 3",
   "language": "python",
   "name": "python3"
  },
  "language_info": {
   "codemirror_mode": {
    "name": "ipython",
    "version": 3
   },
   "file_extension": ".py",
   "mimetype": "text/x-python",
   "name": "python",
   "nbconvert_exporter": "python",
   "pygments_lexer": "ipython3",
   "version": "3.7.6"
  }
 },
 "nbformat": 4,
 "nbformat_minor": 4
}
